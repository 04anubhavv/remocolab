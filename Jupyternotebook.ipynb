{
  "nbformat": 4,
  "nbformat_minor": 0,
  "metadata": {
    "colab": {
      "name": "Untitled0.ipynb",
      "provenance": [],
      "collapsed_sections": []
    },
    "kernelspec": {
      "name": "python3",
      "display_name": "Python 3"
    },
    "accelerator": "GPU"
  },
  "cells": [
    {
      "cell_type": "markdown",
      "metadata": {
        "id": "yHZlCGfqaNRr",
        "colab_type": "text"
      },
      "source": [
        "# **<font color='blue'> Remocolab - Shared by [SudoKen](https://www.youtube.com/channel/UCZq5YhZIR-250zX_MzkTbxA?sub_confirmation=1) </font>**"
      ]
    },
    {
      "cell_type": "code",
      "metadata": {
        "id": "EV5Y2Xh6PR7D",
        "colab_type": "code",
        "colab": {}
      },
      "source": [
        "!pip install git+https://github.com/sudo-ken/remocolab.git\n",
        "import remocolab\n",
        "remocolab.setupVNC()"
      ],
      "execution_count": 0,
      "outputs": []
    },
    {
      "cell_type": "markdown",
      "metadata": {
        "id": "OWWv9LGbaccX",
        "colab_type": "text"
      },
      "source": [
        "#◀️ To get more tutorials like this, subscribe to the YT channel: [SudoKen](https://bit.ly/sudoken-youtube-channel)"
      ]
    }
  ]
}